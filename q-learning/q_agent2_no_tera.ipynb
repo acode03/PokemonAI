{
 "cells": [
  {
   "cell_type": "code",
   "execution_count": 1,
   "metadata": {},
   "outputs": [],
   "source": [
    "import numpy as np\n",
    "import random\n",
    "from gymnasium.spaces import Box, Space\n",
    "from poke_env.player import Gen9EnvSinglePlayer, RandomPlayer, Player\n",
    "from poke_env.environment.abstract_battle import AbstractBattle\n",
    "from poke_env.teambuilder import Teambuilder\n",
    "\n",
    "# from poke_env.player"
   ]
  },
  {
   "cell_type": "code",
   "execution_count": 2,
   "metadata": {},
   "outputs": [],
   "source": [
    "from poke_env import AccountConfiguration, ServerConfiguration\n",
    "from poke_env.teambuilder.teambuilder import Teambuilder\n",
    "\n",
    "\n",
    "class QAgent(Player):\n",
    "    def __init__(self, account_configuration: AccountConfiguration | None = None, *, avatar: str | None = None, battle_format: str = \"gen9randombattle\", log_level: int | None = None, max_concurrent_battles: int = 1, accept_open_team_sheet: bool = False, save_replays: bool | str = False, server_configuration: ServerConfiguration | None = None, start_timer_on_battle_start: bool = False, start_listening: bool = True, ping_interval: float | None = 20, ping_timeout: float | None = 20, team: str | Teambuilder | None = None):\n",
    "        super().__init__(account_configuration, avatar=avatar, battle_format=battle_format, log_level=log_level, max_concurrent_battles=max_concurrent_battles, accept_open_team_sheet=accept_open_team_sheet, save_replays=save_replays, server_configuration=server_configuration, start_timer_on_battle_start=start_timer_on_battle_start, start_listening=start_listening, ping_interval=ping_interval, ping_timeout=ping_timeout, team=team)\n",
    "\n",
    "        self.q_table = {}\n",
    "        self.epsilon = 0.5\n",
    "        self.gamma = 0.95\n",
    "        self.alpha = 0.1\n",
    "        self.last_state = None\n",
    "        self.last_action = None\n",
    "        self.current_state = None\n",
    "        self.last_hp = 100\n",
    "\n",
    "    def embed_moves(self, battle: AbstractBattle): # 2 to 13\n",
    "        embedding = []\n",
    "        for move in battle.available_moves:\n",
    "            embedding += [move.base_power, move.type, move.category]\n",
    "\n",
    "        return embedding\n",
    "\n",
    "    def list_to_tuple(self, embedding):\n",
    "        return tuple(embedding)\n",
    "\n",
    "    def embed_pokemon(self, battle: AbstractBattle): # 0 and 1\n",
    "        embedding = []\n",
    "\n",
    "        # embedding += battle.active_pokemon.base_stats\n",
    "        embedding += battle.active_pokemon.current_hp\n",
    "        embedding += battle.active_pokemon.type\n",
    "\n",
    "        return embedding\n",
    "\n",
    "    def embed_battle(self, battle: AbstractBattle):\n",
    "        \"\"\"Return a list containing info about the game state\"\"\"\n",
    "        embedding = (battle.opponent_active_pokemon.base_species,)\n",
    "        # embedding += self.embed_pokemon(battle)\n",
    "        # embedding += self.embed_moves(battle)\n",
    "        # embedding += [battle.opponent_active_pokemon]\n",
    "\n",
    "        return embedding\n",
    "\n",
    "    def choose_move(self, battle):\n",
    "        # print(self.q_table)\n",
    "        encoding = self.embed_battle(battle)\n",
    "\n",
    "        if battle.turn == 1:\n",
    "            self.last_hp = 100\n",
    "\n",
    "        self.last_state = self.current_state\n",
    "        self.current_state = encoding\n",
    "        # print(self.last_hp, battle.opponent_active_pokemon.current_hp, battle.turn)\n",
    "\n",
    "        if battle.turn > 1:\n",
    "            self.update_q_table(battle)\n",
    "\n",
    "        if encoding in self.q_table:\n",
    "            if random.random() < self.epsilon:\n",
    "                best_move = np.argmax(self.q_table[encoding])\n",
    "\n",
    "                self.last_action = best_move\n",
    "                return self.select_move(best_move, battle)\n",
    "\n",
    "        random_move = random.randint(0, 3)\n",
    "        self.last_action = random_move\n",
    "\n",
    "        return self.select_move(random_move, battle)\n",
    "\n",
    "    def select_move(self, move, battle):\n",
    "        return self.create_order(battle.available_moves[move])\n",
    "\n",
    "    def change_epsilon(self, new):\n",
    "        self.epsilon = new\n",
    "\n",
    "    def new_q_table(self, table):\n",
    "        self.q_table = table\n",
    "\n",
    "    def calc_reward(self, battle):\n",
    "        score = 0\n",
    "\n",
    "        if battle.active_pokemon.fainted:\n",
    "            score -= 50\n",
    "\n",
    "        if battle.active_pokemon.fainted:\n",
    "            score += 50\n",
    "\n",
    "        hp_diff = (\n",
    "            self.last_hp - battle.opponent_active_pokemon.current_hp\n",
    "        )\n",
    "        self.last_hp = battle.opponent_active_pokemon.current_hp\n",
    "\n",
    "        return score + hp_diff\n",
    "\n",
    "    def update_q_table(self, battle):\n",
    "        if self.last_state not in self.q_table:\n",
    "            self.q_table[self.last_state] = [0] * 4\n",
    "\n",
    "        q_old = self.q_table[self.last_state][self.last_action]\n",
    "        temporal_difference = self.calc_reward(battle) + (self.gamma * max(self.q_table[self.current_state])) - q_old\n",
    "        q_update = q_old + (self.alpha * temporal_difference)\n",
    "        # Now put that into our q-table\n",
    "        self.q_table[self.last_state][self.last_action] = q_update"
   ]
  },
  {
   "cell_type": "code",
   "execution_count": 3,
   "metadata": {},
   "outputs": [],
   "source": [
    "team_1 = \"\"\"\n",
    "Goodra (M) @ Assault Vest\n",
    "Ability: Sap Sipper\n",
    "EVs: 248 HP / 252 SpA / 8 Spe\n",
    "Modest Nature\n",
    "IVs: 0 Atk\n",
    "- Dragon Pulse\n",
    "- Flamethrower\n",
    "- Sludge Wave\n",
    "- Thunderbolt\n",
    "\"\"\""
   ]
  },
  {
   "cell_type": "code",
   "execution_count": 4,
   "metadata": {},
   "outputs": [],
   "source": [
    "class RandomTeamFromPool(Teambuilder):\n",
    "    def __init__(self, teams):\n",
    "        self.packed_teams = []\n",
    "\n",
    "        for team in teams:\n",
    "            parsed_team = self.parse_showdown_team(team)\n",
    "            packed_team = self.join_team(parsed_team)\n",
    "            self.packed_teams.append(packed_team)\n",
    "\n",
    "    def yield_team(self):\n",
    "        return np.random.choice(self.packed_teams)"
   ]
  },
  {
   "cell_type": "code",
   "execution_count": null,
   "metadata": {},
   "outputs": [],
   "source": []
  },
  {
   "cell_type": "code",
   "execution_count": 5,
   "metadata": {},
   "outputs": [],
   "source": [
    "team_4 = \"\"\"\n",
    "Goodra (M) @ Assault Vest\n",
    "Ability: Sap Sipper\n",
    "Tera Type: Steel\n",
    "EVs: 248 HP / 252 SpA / 8 Spe\n",
    "Modest Nature\n",
    "IVs: 0 Atk\n",
    "- Dragon Pulse\n",
    "- Flamethrower\n",
    "- Sludge Wave\n",
    "- Thunderbolt\n",
    "\"\"\"\n",
    "team_2 = \"\"\"\n",
    "Sylveon (M) @ Leftovers\n",
    "Ability: Pixilate\n",
    "EVs: 248 HP / 244 Def / 16 SpD\n",
    "Calm Nature\n",
    "IVs: 0 Atk\n",
    "- Hyper Voice\n",
    "- Quick Attack\n",
    "- Protect\n",
    "- Wish\n",
    "\"\"\"\n",
    "team_3 = \"\"\"\n",
    "Blastoise  \n",
    "Ability: Torrent  \n",
    "Tera Type: Water  \n",
    "EVs: 252 HP / 252 SpA / 4 SpD  \n",
    "Modest Nature  \n",
    "IVs: 0 Atk  \n",
    "- Ice Beam  \n",
    "- Hydro Pump  \n",
    "- Aura Sphere  \n",
    "- Surf\n",
    "\"\"\"\n",
    "\n",
    "teams = [team_4, team_2, team_3]\n",
    "custom_builder = RandomTeamFromPool(teams)"
   ]
  },
  {
   "cell_type": "code",
   "execution_count": 6,
   "metadata": {},
   "outputs": [],
   "source": [
    "train = QAgent(team=team_1, battle_format=\"gen9ou\")\n",
    "p2 = RandomPlayer(battle_format=\"gen9ou\", team=custom_builder)\n",
    "\n"
   ]
  },
  {
   "cell_type": "code",
   "execution_count": 7,
   "metadata": {},
   "outputs": [],
   "source": [
    "for i in range(1000):\n",
    "    await train.battle_against(p2, n_battles=1)"
   ]
  },
  {
   "cell_type": "code",
   "execution_count": 8,
   "metadata": {},
   "outputs": [],
   "source": [
    "test = QAgent(team=team_1, battle_format=\"gen9ou\")\n",
    "test.new_q_table(train.q_table.copy())\n",
    "test.change_epsilon(1)"
   ]
  },
  {
   "cell_type": "code",
   "execution_count": 9,
   "metadata": {},
   "outputs": [],
   "source": [
    "for i in range(800):\n",
    "    await test.battle_against(p2, n_battles=1)"
   ]
  },
  {
   "cell_type": "code",
   "execution_count": 10,
   "metadata": {},
   "outputs": [
    {
     "data": {
      "text/plain": [
       "(695, 800)"
      ]
     },
     "execution_count": 10,
     "metadata": {},
     "output_type": "execute_result"
    }
   ],
   "source": [
    "test.n_won_battles, test.n_finished_battles"
   ]
  },
  {
   "cell_type": "code",
   "execution_count": 11,
   "metadata": {},
   "outputs": [
    {
     "data": {
      "text/plain": [
       "{('blastoise',): [762.3854991692689,\n",
       "  742.6792996519973,\n",
       "  745.4965384955019,\n",
       "  1015.2398853218008],\n",
       " ('goodra',): [417.7780578741145,\n",
       "  441.86033945551515,\n",
       "  417.7083596017996,\n",
       "  419.00303411192436],\n",
       " ('sylveon',): [319.09990505528776,\n",
       "  330.6946594154646,\n",
       "  390.1186002961094,\n",
       "  325.2066795387601]}"
      ]
     },
     "execution_count": 11,
     "metadata": {},
     "output_type": "execute_result"
    }
   ],
   "source": [
    "test.q_table"
   ]
  }
 ],
 "metadata": {
  "kernelspec": {
   "display_name": "Python 3",
   "language": "python",
   "name": "python3"
  },
  "language_info": {
   "codemirror_mode": {
    "name": "ipython",
    "version": 3
   },
   "file_extension": ".py",
   "mimetype": "text/x-python",
   "name": "python",
   "nbconvert_exporter": "python",
   "pygments_lexer": "ipython3",
   "version": "3.10.1"
  }
 },
 "nbformat": 4,
 "nbformat_minor": 2
}
